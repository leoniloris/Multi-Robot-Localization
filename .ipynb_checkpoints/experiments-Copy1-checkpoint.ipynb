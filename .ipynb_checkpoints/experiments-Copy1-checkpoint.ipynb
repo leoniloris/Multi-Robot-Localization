{
 "cells": [
  {
   "cell_type": "code",
   "execution_count": null,
   "id": "31b0cb94",
   "metadata": {},
   "outputs": [],
   "source": [
    "import pandas as pd\n",
    "import matplotlib.pyplot as plt\n",
    "import numpy as np\n",
    "import glob\n",
    "\n",
    "%matplotlib inline"
   ]
  },
  {
   "cell_type": "code",
   "execution_count": null,
   "id": "2b509b0f",
   "metadata": {},
   "outputs": [],
   "source": [
    "N_COLUMNS = 36 # should infer from df number of columns\n",
    "\n",
    "ROBOT_INFO_SIZE = 3\n",
    "DETECTION_INFO_SIZE = 1\n",
    "CLUSTER_INFO_SIZE = 4\n",
    "\n",
    "N_CLUSTERS = int((N_COLUMNS - ROBOT_INFO_SIZE - DETECTION_INFO_SIZE) / CLUSTER_INFO_SIZE)"
   ]
  },
  {
   "cell_type": "markdown",
   "id": "08bc91e2",
   "metadata": {},
   "source": [
    "# Load Data"
   ]
  },
  {
   "cell_type": "code",
   "execution_count": null,
   "id": "dcc5c94e",
   "metadata": {},
   "outputs": [],
   "source": [
    "DETECTION_FOLDER = 'experiments/detection_exps/'\n",
    "NO_DETECTION_FOLDER = 'experiments/no_detection_exps/'"
   ]
  },
  {
   "cell_type": "code",
   "execution_count": null,
   "id": "e671fe15",
   "metadata": {},
   "outputs": [],
   "source": [
    "def load_robot_data(file_path):\n",
    "    df = pd.read_csv(file_path, header=None)\n",
    "    column_names = ['robot_x', 'robot_y', 'robot_angle']\n",
    "    for i in range(N_CLUSTERS):\n",
    "        column_names.extend([f'cluster{i}_x', f'cluster{i}_y', f'cluster{i}_angle', f'cluster{i}_weight'])\n",
    "    column_names.append('has_detection')\n",
    "    df.columns = column_names\n",
    "    return df\n",
    "\n",
    "detection_dfs = dict()\n",
    "for file_name in glob.glob(DETECTION_FOLDER + '*.csv'):\n",
    "    df = load_robot_data(file_name)\n",
    "    name = file_name[27:33] + file_name[-12:-4]\n",
    "    detection_dfs[name] = df\n",
    "\n",
    "no_detection_dfs = dict()\n",
    "for file_name in glob.glob(NO_DETECTION_FOLDER + '*.csv'):\n",
    "    df = load_robot_data(file_name)\n",
    "    name = file_name[30:36] + file_name[-12:-4]\n",
    "    no_detection_dfs[name] = df"
   ]
  },
  {
   "cell_type": "markdown",
   "id": "a185830c",
   "metadata": {},
   "source": [
    "# Clusters error"
   ]
  },
  {
   "cell_type": "code",
   "execution_count": null,
   "id": "organized-nicaragua",
   "metadata": {},
   "outputs": [],
   "source": [
    "def compute_clusters_errors(df):\n",
    "    for cluster_id in range(N_CLUSTERS):\n",
    "        diff_x_square = (df[f\"robot_x\"] - df[f\"cluster{cluster_id}_x\"])**2\n",
    "        diff_y_square = (df[f\"robot_y\"] - df[f\"cluster{cluster_id}_y\"])**2\n",
    "        df[f\"cluster{cluster_id}_error\"] = np.sqrt(diff_x_square + diff_y_square)\n",
    "    return df\n",
    "\n",
    "for k, v in detection_dfs.items():\n",
    "    detection_dfs[k] = compute_clusters_errors(v)\n",
    "\n",
    "for k, v in no_detection_dfs.items():\n",
    "    no_detection_dfs[k] = compute_clusters_errors(v)"
   ]
  },
  {
   "cell_type": "markdown",
   "id": "83e74e68",
   "metadata": {},
   "source": [
    "# Plot results"
   ]
  },
  {
   "cell_type": "code",
   "execution_count": null,
   "id": "rental-small",
   "metadata": {},
   "outputs": [],
   "source": [
    "EXPERIMENT_TIME_S = 60\n",
    "CELLS_TO_METERS = 10\n",
    "\n",
    "def _cells_to_meters(cells):\n",
    "    return cells / CELLS_TO_METERS"
   ]
  },
  {
   "cell_type": "markdown",
   "id": "35c58ef2",
   "metadata": {},
   "source": [
    "## Top N (accumulated) clusters error"
   ]
  },
  {
   "cell_type": "code",
   "execution_count": null,
   "id": "statistical-retreat",
   "metadata": {
    "scrolled": false
   },
   "outputs": [],
   "source": [
    "def plot_top_n_accumulated_cluster_errors(df, title):\n",
    "    t = np.linspace(1, EXPERIMENT_TIME_S, len(df))\n",
    "\n",
    "    N_CLUSTERS_TO_PLOT = 3\n",
    "    plt.figure(figsize=(15, 2), facecolor='w')\n",
    "    plt.title('Error between estimated cluster position and ground truth [m].')\n",
    "\n",
    "    weights = []\n",
    "    for cluster_id in range(N_CLUSTERS):\n",
    "        df[f\"cluster{cluster_id}_w_mean\"] = df[f\"cluster{cluster_id}_weight\"].mean()\n",
    "        weights.append(df[f\"cluster{cluster_id}_w_mean\"].iloc[0])\n",
    "\n",
    "    weights_to_plot = sorted(weights, reverse=True)[:N_CLUSTERS_TO_PLOT]\n",
    "    for cluster_id in range(N_CLUSTERS):\n",
    "        weight = df[f\"cluster{cluster_id}_w_mean\"].iloc[0]\n",
    "        if weight in weights_to_plot: \n",
    "            plt.plot(t, _cells_to_meters(\n",
    "                df[f\"cluster{cluster_id}_error\"]), alpha=0.8, label=f\"cluster {cluster_id}\")\n",
    "\n",
    "    plt.plot(t, df.has_detection * 10, alpha=0.5, label=\"has detection\")\n",
    "    plt.title(title)\n",
    "    plt.xlabel('Time [s]')\n",
    "    plt.legend()\n",
    "    plt.grid()\n",
    "    plt.show()"
   ]
  },
  {
   "cell_type": "markdown",
   "id": "f2a6d597",
   "metadata": {},
   "source": [
    "### Detection "
   ]
  },
  {
   "cell_type": "code",
   "execution_count": null,
   "id": "6ccc101d",
   "metadata": {
    "scrolled": false
   },
   "outputs": [],
   "source": [
    "for k, v in detection_dfs.items():\n",
    "    plot_top_n_accumulated_cluster_errors(v, k)"
   ]
  },
  {
   "cell_type": "markdown",
   "id": "79ddfce3",
   "metadata": {},
   "source": [
    "### No Detection"
   ]
  },
  {
   "cell_type": "code",
   "execution_count": null,
   "id": "6b686453",
   "metadata": {
    "scrolled": false
   },
   "outputs": [],
   "source": [
    "for k, v in no_detection_dfs.items():\n",
    "    plot_top_n_accumulated_cluster_errors(v, k)"
   ]
  },
  {
   "cell_type": "markdown",
   "id": "bc855e27",
   "metadata": {},
   "source": [
    "## Best (instantaneous) cluster error"
   ]
  },
  {
   "cell_type": "code",
   "execution_count": null,
   "id": "2077fed3",
   "metadata": {
    "scrolled": false
   },
   "outputs": [],
   "source": [
    "def plot_best_instantaneous_cluster_error(df, title):\n",
    "    def _compute_best_cluster_and_its_error(row):\n",
    "        best_cluster_id = np.argmax(row.filter(like='_weight'))\n",
    "        row['best_cluster_id'] = best_cluster_id\n",
    "        row['best_cluster_error'] = row[f'cluster{best_cluster_id}_error']\n",
    "        return row \n",
    "\n",
    "    df = df.apply(_compute_best_cluster_and_its_error, axis=1)\n",
    "\n",
    "    t = np.linspace(1, EXPERIMENT_TIME_S, len(df))\n",
    "\n",
    "    plt.figure(figsize=(15, 2))\n",
    "    plt.title(title)\n",
    "    plt.plot(t, _cells_to_meters(df['best_cluster_error']), alpha=0.8, label='robot')\n",
    "    plt.plot(t, df.has_detection * 10, alpha=0.5, label=\"has detection\")\n",
    "    plt.xlabel('Time [s]')\n",
    "    plt.legend()\n",
    "    plt.grid()\n",
    "    plt.show()\n",
    "    \n",
    "    return df"
   ]
  },
  {
   "cell_type": "markdown",
   "id": "4522340c",
   "metadata": {},
   "source": [
    "### Detection"
   ]
  },
  {
   "cell_type": "code",
   "execution_count": null,
   "id": "023689e8",
   "metadata": {
    "scrolled": false
   },
   "outputs": [],
   "source": [
    "for k, v in detection_dfs.items():\n",
    "    detection_dfs[k] = plot_best_instantaneous_cluster_error(v, k)"
   ]
  },
  {
   "cell_type": "markdown",
   "id": "0f69e333",
   "metadata": {},
   "source": [
    "### No Detection"
   ]
  },
  {
   "cell_type": "code",
   "execution_count": null,
   "id": "27905654",
   "metadata": {
    "scrolled": false
   },
   "outputs": [],
   "source": [
    "for k, v in no_detection_dfs.items():\n",
    "    no_detection_dfs[k] = plot_best_instantaneous_cluster_error(v, k)"
   ]
  },
  {
   "cell_type": "markdown",
   "id": "1110e0a7",
   "metadata": {},
   "source": [
    "## Best (instantaneous) cluster error accumulated"
   ]
  },
  {
   "cell_type": "code",
   "execution_count": null,
   "id": "3c571d78",
   "metadata": {},
   "outputs": [],
   "source": [
    "def plot_best_instantaneous_cluster_error_accumulated(accumulated_error, title, experiment_size):\n",
    "    t = np.linspace(1, EXPERIMENT_TIME_S, experiment_size)\n",
    "\n",
    "    plt.figure(figsize=(15, 2))\n",
    "    plt.title(title)\n",
    "    plt.plot(t, _cells_to_meters(accumulated_error), alpha=0.8, label='robot')\n",
    "    plt.xlabel('Time [s]')\n",
    "    plt.legend()\n",
    "    plt.grid()\n",
    "    plt.show()"
   ]
  },
  {
   "cell_type": "markdown",
   "id": "751204c6",
   "metadata": {},
   "source": [
    "### Detection"
   ]
  },
  {
   "cell_type": "code",
   "execution_count": null,
   "id": "1052ae44",
   "metadata": {},
   "outputs": [],
   "source": [
    "EXPERIMENT_LEN_DETECT = 300\n",
    "\n",
    "robot1_accumulated_detection = np.zeros(EXPERIMENT_LEN_DETECT)\n",
    "robot2_accumulated_detection = np.zeros(EXPERIMENT_LEN_DETECT)\n",
    "for k, v in detection_dfs.items():\n",
    "    if 'robot1' in k:\n",
    "        robot1_accumulated_detection += v.best_cluster_error[:EXPERIMENT_LEN_DETECT]\n",
    "    elif 'robot2' in k:\n",
    "        robot2_accumulated_detection += v.best_cluster_error[:EXPERIMENT_LEN_DETECT]\n",
    "        \n",
    "plot_best_instantaneous_cluster_error_accumulated(\n",
    "    robot1_accumulated_detection, 'Robot1 detection', EXPERIMENT_LEN_DETECT)\n",
    "plot_best_instantaneous_cluster_error_accumulated(\n",
    "    robot2_accumulated_detection, 'Robot2 detection', EXPERIMENT_LEN_DETECT)"
   ]
  },
  {
   "cell_type": "markdown",
   "id": "c7617fd1",
   "metadata": {},
   "source": [
    "### No detection"
   ]
  },
  {
   "cell_type": "code",
   "execution_count": null,
   "id": "803cfe2f",
   "metadata": {},
   "outputs": [],
   "source": [
    "EXPERIMENT_LEN_NO_DETECT = 290\n",
    "\n",
    "robot1_accumulated_no_detection = np.zeros(EXPERIMENT_LEN_NO_DETECT)\n",
    "robot2_accumulated_no_detection = np.zeros(EXPERIMENT_LEN_NO_DETECT)\n",
    "for k, v in no_detection_dfs.items():\n",
    "    if 'robot1' in k:\n",
    "        robot1_accumulated_no_detection += v.best_cluster_error[:EXPERIMENT_LEN_NO_DETECT]\n",
    "    elif 'robot2' in k:\n",
    "        robot2_accumulated_no_detection += v.best_cluster_error[:EXPERIMENT_LEN_NO_DETECT]\n",
    "        \n",
    "plot_best_instantaneous_cluster_error_accumulated(\n",
    "    robot1_accumulated_no_detection, 'Robot1 no detection', EXPERIMENT_LEN_NO_DETECT)\n",
    "plot_best_instantaneous_cluster_error_accumulated(\n",
    "    robot2_accumulated_no_detection, 'Robot2 no detection', EXPERIMENT_LEN_NO_DETECT)"
   ]
  },
  {
   "cell_type": "markdown",
   "id": "689123df",
   "metadata": {},
   "source": [
    "### Comparison Detection vs No Detection"
   ]
  },
  {
   "cell_type": "code",
   "execution_count": null,
   "id": "5ca468eb",
   "metadata": {},
   "outputs": [],
   "source": [
    "def plot_best_instantaneous_cluster_error_accumulated(\n",
    "    accumulated_error_detect, accumulated_error_no_detect, title, experiment_size):\n",
    "#     t = np.linspace(1, EXPERIMENT_TIME_S, experiment_size)\n",
    "\n",
    "    plt.figure(figsize=(15, 2))\n",
    "    plt.title(title)\n",
    "    plt.plot(_cells_to_meters(accumulated_error_detect), alpha=0.8, label='robot_detect')\n",
    "    plt.plot(_cells_to_meters(accumulated_error_no_detect), alpha=0.8, label='robot_no_detect')\n",
    "    plt.xlabel('Ticks')\n",
    "    plt.legend()\n",
    "    plt.grid()\n",
    "    plt.show()\n",
    "    \n",
    "plot_best_instantaneous_cluster_error_accumulated(\n",
    "    robot1_accumulated_detection, robot1_accumulated_no_detection, 'Robot1', EXPERIMENT_LEN_DETECT)\n",
    "plot_best_instantaneous_cluster_error_accumulated(\n",
    "    robot2_accumulated_detection, robot2_accumulated_no_detection, 'Robot2', EXPERIMENT_LEN_NO_DETECT)"
   ]
  },
  {
   "cell_type": "markdown",
   "id": "4c71963b",
   "metadata": {},
   "source": [
    "Done!"
   ]
  },
  {
   "cell_type": "code",
   "execution_count": null,
   "id": "5a388001",
   "metadata": {},
   "outputs": [],
   "source": []
  }
 ],
 "metadata": {
  "kernelspec": {
   "display_name": "Python 3",
   "language": "python",
   "name": "python3"
  },
  "language_info": {
   "codemirror_mode": {
    "name": "ipython",
    "version": 3
   },
   "file_extension": ".py",
   "mimetype": "text/x-python",
   "name": "python",
   "nbconvert_exporter": "python",
   "pygments_lexer": "ipython3",
   "version": "3.8.8"
  },
  "toc": {
   "base_numbering": 1,
   "nav_menu": {},
   "number_sections": true,
   "sideBar": true,
   "skip_h1_title": false,
   "title_cell": "Table of Contents",
   "title_sidebar": "Contents",
   "toc_cell": false,
   "toc_position": {},
   "toc_section_display": true,
   "toc_window_display": false
  }
 },
 "nbformat": 4,
 "nbformat_minor": 5
}
