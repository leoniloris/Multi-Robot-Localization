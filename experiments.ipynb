{
 "cells": [
  {
   "cell_type": "code",
   "execution_count": null,
   "id": "31b0cb94",
   "metadata": {},
   "outputs": [],
   "source": [
    "import pandas as pd\n",
    "import matplotlib.pyplot as plt\n",
    "import numpy as np"
   ]
  },
  {
   "cell_type": "code",
   "execution_count": null,
   "id": "dcc5c94e",
   "metadata": {},
   "outputs": [],
   "source": [
    "FILE_PATH_1 = 'robot1_with_hard_detection_trial_1.csv'\n",
    "FILE_PATH_2 = 'robot2_with_hard_detection_trial_1.csv'"
   ]
  },
  {
   "cell_type": "code",
   "execution_count": null,
   "id": "2b509b0f",
   "metadata": {},
   "outputs": [],
   "source": [
    "N_COLUMNS = 36 # should infer from df number of columns\n",
    "\n",
    "ROBOT_INFO_SIZE = 3\n",
    "DETECTION_INFO_SIZE = 1\n",
    "CLUSTER_INFO_SIZE = 4\n",
    "\n",
    "N_CLUSTERS = int((N_COLUMNS - ROBOT_INFO_SIZE - DETECTION_INFO_SIZE) / CLUSTER_INFO_SIZE)"
   ]
  },
  {
   "cell_type": "code",
   "execution_count": null,
   "id": "e671fe15",
   "metadata": {},
   "outputs": [],
   "source": [
    "def load_robot_data(file_path):\n",
    "    df = pd.read_csv(file_path, header=None)\n",
    "    column_names = ['robot_x', 'robot_y', 'robot_angle']\n",
    "    for i in range(N_CLUSTERS):\n",
    "        column_names.extend([f'cluster{i}_x', f'cluster{i}_y', f'cluster{i}_angle', f'cluster{i}_w'])\n",
    "    column_names.append('has_detection')\n",
    "    df.columns = column_names\n",
    "    return df\n",
    "    \n",
    "df_robot1 = load_robot_data(FILE_PATH_1)\n",
    "df_robot2 = load_robot_data(FILE_PATH_2)"
   ]
  },
  {
   "cell_type": "code",
   "execution_count": null,
   "id": "organized-nicaragua",
   "metadata": {},
   "outputs": [],
   "source": [
    "def compute_clusters_errors(df):\n",
    "    for cluster_id in range(8):\n",
    "        diff_x_square = (df[f\"robot_x\"]- df[f\"cluster{cluster_id}_x\"])**2\n",
    "        diff_y_square = (df[f\"robot_y\"]- df[f\"cluster{cluster_id}_y\"])**2\n",
    "        df[f\"cluster{cluster_id}_error\"] = np.sqrt(diff_x_square+diff_y_square)\n",
    "    return df\n",
    "\n",
    "\n",
    "df_robot1 = compute_clusters_errors(df_robot1)\n",
    "df_robot2 = compute_clusters_errors(df_robot2)"
   ]
  },
  {
   "cell_type": "code",
   "execution_count": null,
   "id": "rental-small",
   "metadata": {},
   "outputs": [],
   "source": [
    "EXPERIMENT_TIME_S = 310\n",
    "CELLS_TO_METERS = 10\n",
    "\n",
    "def _cell_to_meters(cells):\n",
    "    return cells / CELLS_TO_METERS\n",
    "\n",
    "t1 = np.linspace(1, EXPERIMENT_TIME_S, len(df_robot1.cluster1_w))\n",
    "t2 = np.linspace(1, EXPERIMENT_TIME_S, len(df_robot2.cluster1_w))"
   ]
  },
  {
   "cell_type": "code",
   "execution_count": null,
   "id": "statistical-retreat",
   "metadata": {},
   "outputs": [],
   "source": [
    "def plot_cluster_errors(df):\n",
    "    N_CLUSTERS_TO_PLOT = 3\n",
    "    plt.figure(figsize=(10, 5), facecolor='w')\n",
    "    plt.title('Error between estimated cluster position and ground truth [m].')\n",
    "\n",
    "    sum_of_weights = 0\n",
    "    for cluster_id in range(N_CLUSTERS):\n",
    "        df[f\"cluster{cluster_id}_w\"] = df[f\"cluster{cluster_id}_w\"].mean()\n",
    "        sum_of_weights += df[f\"cluster{cluster_id}_w\"]\n",
    "\n",
    "    weights = []\n",
    "    for cluster_id in range(N_CLUSTERS):\n",
    "        df[f\"cluster{cluster_id}_w\"] /= sum_of_weights\n",
    "        weights.append(df[f\"cluster{cluster_id}_w\"].iloc[0])\n",
    "\n",
    "    weights_to_plot = sorted(weights, reverse=True)[:N_CLUSTERS_TO_PLOT]\n",
    "    for cluster_id in range(N_CLUSTERS):\n",
    "        weight = df[f\"cluster{cluster_id}_w\"].iloc[0]\n",
    "        if weight in weights_to_plot: \n",
    "            plt.plot(t1, _cell_to_meters(\n",
    "                df[f\"cluster{cluster_id}_error\"]), alpha=0.8, label=f\"cluster {cluster_id}\")\n",
    "#     plt.plot(t1, df.has_detection * 7, alpha=0.5, label=\"has detection\")\n",
    "    plt.xlabel('Time [s]')\n",
    "    plt.legend()\n",
    "    plt.grid()\n",
    "    plt.show()"
   ]
  },
  {
   "cell_type": "code",
   "execution_count": null,
   "id": "fitting-lexington",
   "metadata": {},
   "outputs": [],
   "source": [
    "%matplotlib notebook"
   ]
  },
  {
   "cell_type": "code",
   "execution_count": null,
   "id": "grave-joshua",
   "metadata": {},
   "outputs": [],
   "source": [
    "plot_cluster_errors(df_robot1)\n",
    "plot_cluster_errors(df_robot2)"
   ]
  },
  {
   "cell_type": "markdown",
   "id": "4c71963b",
   "metadata": {},
   "source": [
    "Done!"
   ]
  }
 ],
 "metadata": {
  "kernelspec": {
   "display_name": "Python 3",
   "language": "python",
   "name": "python3"
  },
  "language_info": {
   "codemirror_mode": {
    "name": "ipython",
    "version": 3
   },
   "file_extension": ".py",
   "mimetype": "text/x-python",
   "name": "python",
   "nbconvert_exporter": "python",
   "pygments_lexer": "ipython3",
   "version": "3.8.7"
  },
  "toc": {
   "base_numbering": 1,
   "nav_menu": {},
   "number_sections": true,
   "sideBar": true,
   "skip_h1_title": false,
   "title_cell": "Table of Contents",
   "title_sidebar": "Contents",
   "toc_cell": false,
   "toc_position": {},
   "toc_section_display": true,
   "toc_window_display": false
  }
 },
 "nbformat": 4,
 "nbformat_minor": 5
}
